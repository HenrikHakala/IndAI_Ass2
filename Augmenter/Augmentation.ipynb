{
 "cells": [
  {
   "cell_type": "code",
   "execution_count": 3,
   "metadata": {},
   "outputs": [
    {
     "name": "stdout",
     "output_type": "stream",
     "text": [
      "[Healthy] Found 12 images.\n",
      "[Faulty] Found 17 images.\n",
      "\n",
      "✅ Done: 145 augmented images saved.\n"
     ]
    }
   ],
   "source": [
    "from torchvision import transforms\n",
    "from torchvision.transforms import ToTensor, ToPILImage\n",
    "from fastai.vision.all import PILImage, get_image_files\n",
    "from pathlib import Path\n",
    "import uuid\n",
    "\n",
    "# === Config ===\n",
    "base_path = Path(r\"D:\\Cursor projects\\Assignment2\\Dataset_Circuitboard_augmented\")\n",
    "num_augmented_per_image = 5\n",
    "image_size = 224\n",
    "\n",
    "# === Torchvision Augmentation Pipeline ===\n",
    "augmenter = transforms.Compose([\n",
    "    transforms.Resize((image_size, image_size)),\n",
    "    transforms.RandomHorizontalFlip(),\n",
    "    transforms.RandomVerticalFlip(),\n",
    "    transforms.RandomRotation(30),\n",
    "    transforms.ColorJitter(brightness=0.4, contrast=0.4),\n",
    "    transforms.RandomAffine(15, translate=(0.1, 0.1), scale=(0.9, 1.1)),\n",
    "    transforms.ToTensor(),\n",
    "    transforms.ToPILImage()\n",
    "])\n",
    "\n",
    "# === Apply to Each Class Folder ===\n",
    "total_augmented = 0\n",
    "\n",
    "for cls in ['Healthy', 'Faulty']:\n",
    "    class_folder = base_path / cls\n",
    "    image_files = get_image_files(class_folder)\n",
    "    print(f\"[{cls}] Found {len(image_files)} images.\")\n",
    "\n",
    "    for img_path in image_files:\n",
    "        if \"_aug\" in img_path.name:\n",
    "            continue  # ✅ Skip already-augmented images\n",
    "\n",
    "        orig_img = PILImage.create(img_path)\n",
    "\n",
    "        for i in range(num_augmented_per_image):\n",
    "            augmented_img = augmenter(orig_img)\n",
    "            new_filename = f\"{img_path.stem}_aug{uuid.uuid4().hex[:6]}.jpg\"\n",
    "            new_path = class_folder / new_filename\n",
    "            augmented_img.save(new_path)\n",
    "            total_augmented += 1\n",
    "\n",
    "print(f\"\\n✅ Done: {total_augmented} augmented images saved.\")\n"
   ]
  }
 ],
 "metadata": {
  "kernelspec": {
   "display_name": "venv",
   "language": "python",
   "name": "python3"
  },
  "language_info": {
   "codemirror_mode": {
    "name": "ipython",
    "version": 3
   },
   "file_extension": ".py",
   "mimetype": "text/x-python",
   "name": "python",
   "nbconvert_exporter": "python",
   "pygments_lexer": "ipython3",
   "version": "3.12.3"
  }
 },
 "nbformat": 4,
 "nbformat_minor": 2
}
